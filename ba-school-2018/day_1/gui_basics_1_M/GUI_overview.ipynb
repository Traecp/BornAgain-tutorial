{
 "cells": [
  {
   "cell_type": "markdown",
   "metadata": {},
   "source": [
    "# BornAgain GUI Overview"
   ]
  },
  {
   "cell_type": "markdown",
   "metadata": {},
   "source": [
    "![sidebar](img/sidebar.png)"
   ]
  },
  {
   "cell_type": "markdown",
   "metadata": {},
   "source": [
    "## Welcome view"
   ]
  },
  {
   "cell_type": "markdown",
   "metadata": {},
   "source": [
    "When you start BornAgain GUI, you will be presented with the Welcome View, where you can\n",
    "\n",
    "   * Create new projects\n",
    "   * Open recent projects\n",
    "   * Visit BornAgain web page\n",
    "   \n",
    "![GUI Welcome view](img/welcome_win.png)"
   ]
  },
  {
   "cell_type": "markdown",
   "metadata": {},
   "source": [
    "## Instrument view\n",
    "\n",
    "The Instrument View is used to create new scattering instruments and adjust their settings. To add a new instrument click `Add` button in the top left corner.\n",
    "\n",
    "![Add instrument](img/add_instrument.png)\n",
    "\n",
    "This tutorial covers only the **GISAS** instrument. Other instrument types will be presented in later tutorials."
   ]
  },
  {
   "cell_type": "markdown",
   "metadata": {},
   "source": [
    "The instrument view consists of the instrument selector located on the left and the instrument settings window located on the right.\n",
    "\n",
    "![GISAS Instrument](img/gisas_instrument_view1.png)"
   ]
  },
  {
   "cell_type": "markdown",
   "metadata": {},
   "source": [
    "### Beam Parameters\n",
    "\n",
    "* `Intensity`, photons (or neutrons)\n",
    "* X-ray/neutron `Wavelength`, nm\n",
    "* `Inclination angle`, degree\n",
    "* `Azimuthal angle`, degree\n",
    "\n",
    "Beam divergency can be set up via `Distribution` parameter. Click the **magnifying glass** to start the `Extended distribution viewer`.\n",
    "\n",
    "![Distribution widget](img/distr_widget.png)"
   ]
  },
  {
   "cell_type": "markdown",
   "metadata": {},
   "source": [
    "### Detector parameters\n",
    "\n",
    "This tutorial will cover only the **rectangular detector**, since it is the most popular detector type for GISAS instruments. More information about BornAgain detector types one can find on [BornAgain web page](https://www.bornagainproject.org/documentation/working-with-python/detector-types/).\n",
    "\n",
    "**Rectangular detector is defined by following parameters:**\n",
    "* `Nbins` - number of detector pixels (horizontal for `X axis` and vertical for `Y axis`)\n",
    "* `Width` - width of the detector, mm\n",
    "* `Height` - height of the detector, mm\n",
    "* `Alignment` - the way how the detector aligned with respect to the direct beam, sample, etc.\n",
    "* `Resolution function` - detector resolution. For the moment only 2D Gaussian is supported. Simulated result will be convolved with the given function to account for detector resolution.\n",
    "\n",
    "![Rectangular detector](img/rectangular_detector_genpos.png)\n",
    "\n",
    "**Positions:**\n",
    "* `u0 (dbeam)` - direct beam X coordinate, mm\n",
    "* `v0 (dbeam)` - direct beam Y coordinate, mm\n",
    "* `Distance` - distance from sample to detector, mm"
   ]
  },
  {
   "cell_type": "markdown",
   "metadata": {},
   "source": [
    "**Further instrument settings**\n",
    "\n",
    "![GISAS Instrument](img/gisas_instrument_view2.png)\n",
    "\n",
    "Section **Polarisation analysis** accounts for simulation of polarized neutrons. Will be presented in later tutorial.\n",
    "\n",
    "Section **Environment** contains settings for background which should be considered during simulation. For the moment only `Constant background` of the given amplitude (set with `BackgroundValue` field) and `Poisson noise` are supported.\n",
    "\n",
    "In the case of **constant background**, the intensity is calculated as \n",
    "$$I = I_{sim} + A$$ \n",
    "where $A$ is the amplitude value given in the `BackgroundValue` field.\n",
    "\n",
    "In the case of **Poisson background**, the intensity $I_k$ at each detector point $k$ is obtained from the Poisson distribution with the probability\n",
    "$$P(I_k | \\mu) = \\frac{e^{-\\mu}\\cdot\\mu^{I_k}}{I_k!}$$\n",
    "where $\\mu = I_{sim,\\,k}$ is the simulated intensity at the detector point $k$ without background. "
   ]
  },
  {
   "cell_type": "markdown",
   "metadata": {},
   "source": [
    "## Exercise 1: Set up GALAXI instrument\n",
    "\n",
    "[GALAXI](http://dx.doi.org/10.17815/jlsrf-2-109) is the high brilliance laboratory small angle X-ray scattering instrument operated by JCNS, Forschungszentrum Jülich.\n",
    "\n",
    "**GALAXI beam parameters**\n",
    "* `Intensity` $I = 10^6$ photons\n",
    "* X-ray `Wavelength` $\\lambda = 1.34 \\overset{\\circ}{\\text A}$\n",
    "* `Inclination angle` $\\alpha_i = 0.2^{\\circ}$\n",
    "* `Azimuthal angle` $\\phi_i = 0.0^{\\circ}$\n",
    "* For this exercise: no beam divergency\n",
    "\n",
    "**GALAXI detector parameters**\n",
    "* Detector size $981\\times 1043$ pixels ($x\\times y$)\n",
    "* Pixel size $172\\mu m$\n",
    "* Direct beam center $(x, y) = (600, 350)$ pixels\n",
    "* Distance from sample to detector $3532$ mm\n",
    "* Detector is aligned perpendicular to the direct beam.\n",
    "* For this exercise: no resolution function, no background"
   ]
  },
  {
   "cell_type": "markdown",
   "metadata": {},
   "source": [
    "### Optional: beam divergency\n",
    "\n",
    "Add angular beam divergency $\\Delta\\alpha_i=0.3$ mrad and $\\Delta\\phi_i=0.3$ mrad. Choose Gaussian distribution. Pay attention, that `StdDev`$=\\sigma$ and \n",
    "$$\\text{FWHM}=2\\sqrt{2\\log 2}\\sigma\\approx 2.355\\sigma$$ \n",
    "Play with the `Distribution` widget, vary the distribution parameters and observe changes.\n",
    "\n",
    "**Note:** the larger `Number of samples` you choose, the slower will be your simulation. Do you understand why?\n",
    "\n",
    "\n",
    "### Optional: detector resolution\n",
    "\n",
    "Add detector resolution function with FWHM equal to the detector pixel size for both, $X$ and $Y$ directions."
   ]
  },
  {
   "cell_type": "markdown",
   "metadata": {},
   "source": [
    "*If got stucked, see [solution](GUI_solutions.ipynb)*"
   ]
  },
  {
   "cell_type": "markdown",
   "metadata": {},
   "source": [
    "## Sample View\n",
    "\n",
    "The Sample View allows you to design the sample via a drag-and-drop interface. It consists of five main parts\n",
    "\n",
    "   * The item toolbox (1) contains a variety of items for building a sample\n",
    "   * The sample canvas (2) is used to assemble the sample\n",
    "   * The sample tree view (3) represents the hierarchy of the objects composing the sample\n",
    "   * The property editor (4) can be used to edit the parameters of the currently selected item\n",
    "   * The script view (5) shows the automatically generated Python script\n",
    "   \n",
    "![Sample View](img/sample_view.png)"
   ]
  },
  {
   "cell_type": "markdown",
   "metadata": {},
   "source": [
    "#### Material editor\n",
    "\n",
    "`Material editor` accounts for properties of the materials, such as refractive indices (alternatively SLD) or magnetization. To start the wigdet, click the `Material Editor` button on the top panel.\n",
    "\n",
    "![Material editor](img/material_editor.png)"
   ]
  },
  {
   "cell_type": "markdown",
   "metadata": {},
   "source": [
    "## Exercise 2: Si Nano dots on Si substrate\n",
    "\n",
    "Create a sample made of rectangular Si nanoparticles on Si substrate. For this exercise we ingore the interference function.\n",
    "\n",
    "![Si nanodots](img/si_np.png)"
   ]
  },
  {
   "cell_type": "markdown",
   "metadata": {},
   "source": [
    "*If got stucked, see [solution](GUI_solutions.ipynb#Exercise-2:-Si-Nano-dots-on-Si-substrate)*"
   ]
  },
  {
   "cell_type": "markdown",
   "metadata": {},
   "source": [
    "## Simulation view\n",
    "\n",
    "![Simulation View](img/sim_view.png)\n",
    "\n",
    "The Simulation View contains three important elements\n",
    "\n",
    "- The `Data selection` box for selecting the instrument and the sample to simulate.\n",
    "- The `Simulation Parameters` box for changing the main simulation parameters \n",
    "- The `Run Simulation` and `Export to Python Script` buttons\n"
   ]
  },
  {
   "cell_type": "markdown",
   "metadata": {},
   "source": [
    "## Job view\n",
    "\n",
    "![Job View](img/jobview.png)"
   ]
  },
  {
   "cell_type": "markdown",
   "metadata": {},
   "source": [
    "## Exercise 3: Run simulation\n",
    "\n",
    "1. Simulate the sample designed in the previous exercise. BornAgain should automatically switch to `Job view` after the simulation has finished. Change plot units to $q$. Change the $Q_z$ range to start from 0. Save the plot to `.png` file.\n",
    "\n",
    "2. Take a Fourier transform of the image. See the result.\n",
    "\n",
    "3. Make a horizontal slice at $Q_z=0.4$. Save it to `text file`.\n",
    "\n",
    "4. Make a vertical slice at $Q_y=0$. Save it to `text file`.\n",
    "\n",
    "5. Switch to `Real time activity`. Vary width of the particles. How it influences the simulated GISAXS pattern?. Vary height of the particles. How did the simulated pattern change?"
   ]
  },
  {
   "cell_type": "markdown",
   "metadata": {},
   "source": [
    "*If got stucked, see [solution](GUI_solutions.ipynb#Exercise-3)*"
   ]
  },
  {
   "cell_type": "code",
   "execution_count": null,
   "metadata": {},
   "outputs": [],
   "source": []
  }
 ],
 "metadata": {
  "kernelspec": {
   "display_name": "Python 3",
   "language": "python",
   "name": "python3"
  },
  "language_info": {
   "codemirror_mode": {
    "name": "ipython",
    "version": 3
   },
   "file_extension": ".py",
   "mimetype": "text/x-python",
   "name": "python",
   "nbconvert_exporter": "python",
   "pygments_lexer": "ipython3",
   "version": "3.7.1"
  }
 },
 "nbformat": 4,
 "nbformat_minor": 2
}
