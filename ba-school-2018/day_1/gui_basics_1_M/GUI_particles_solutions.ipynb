{
 "cells": [
  {
   "cell_type": "markdown",
   "metadata": {},
   "source": [
    "# Exercise 1: particle positioning\n",
    "\n",
    "1. Click on the particle in the sample design area. Check $Z$ value in the `Position Offset` field on the right panel. $Z=0$, this is default value.\n",
    "\n",
    "    ![Particle position](img/pex1_sol01.png)\n",
    "\n",
    "    The `3D Viewer` shows, that the particles are on top of the substrate.\n",
    "\n",
    "    ![Particle position 3D](img/pex1_sol05.png)\n",
    "\n",
    "\n",
    "2. Set $Z=10$. Check with the `3D Viewer`: the particles are now flying above the substrate.\n",
    "\n",
    "    ![Particle position 3D](img/pex1_sol06.png)\n",
    "\n",
    "    Switch to `Simulation view` and click `Run simulation` button. You should be able to see the clear difference.\n",
    "\n",
    "    ![Simulation result](img/pex1_sol02.png)\n",
    "    Left: $Z=0$, right: $Z=10$\n",
    "\n",
    "3. Switch back to the `Sample view`. Drag and drop a new layer to the multilayer, place it in the middle, between air and substrate layers. Click on the new layer. Go to the properties on the right pannel and set `Thickness` to be 50 nm. Click on the `Material` to start the `Material editor` widget. Create a new material with $\\delta = 2\\times 10^{-6}$, $\\beta = 1.3\\times 10^{-8}$ and assign it to this layer. \n",
    "\n",
    "4. Disconnect `Particle layout` from the air layer and connect it to the intermediate layer.\n",
    "\n",
    "    ![Add new layer](img/pex1_sol03.png)\n",
    "\n",
    "    Click on the particle and check $Z$ value in the `Position Offset` field on the right panel. $Z=10$ and this value is incorrect. For the particles in the intermediate layer, $Z$ must be $\\leq 0$. `3D Viewer` shows, that particles are not in the intermediate layer, but flying above it.\n",
    "    \n",
    "    ![Particle position 3D](img/pex1_sol07.png)\n",
    "\n",
    "5. Vary $Z$ value in the `Position Offset` field on the right panel:\n",
    "    - if particles are on the bottom of the intermediate layer, $Z=-50$ nm\n",
    "    ![Particle position 3D](img/pex1_sol08.png)\n",
    "    \n",
    "    - if particles are in the middle of the intermediate layer, $Z=-\\frac{50}{2}-\\frac{10}{2}=-30$ nm\n",
    "     ![Particle position 3D](img/pex1_sol09.png)\n",
    "    \n",
    "    - if particles are touching the bottom of the intermediate layer, $Z=-10$ nm.\n",
    "    ![Particle position 3D](img/pex1_sol10.png)\n",
    "    "
   ]
  },
  {
   "cell_type": "markdown",
   "metadata": {},
   "source": [
    "# Exercise 2: particle rotation\n",
    "\n",
    "## Rotate particles around X axis by 45 degree.\n",
    "\n",
    "![RotateX](img/pex2_sol01.png)\n",
    "\n",
    "As you can see from the 3D view, particles are got shifted along $Z$ axis. \n",
    "\n",
    "![RotateX](img/pex2_sol02.png)\n",
    "\n",
    "Since this is not an intend of this exercise, we need to adjust their vertical position.\n",
    "\n",
    "![RotateX](img/pex2_sol03.png)\n",
    "\n",
    "Initial particle position was on the bottom of the polymer layer, e. g. $Z=-50$ nm. Rotation around the X axis has shifted the particle bottom by $\\Delta z = 0.5\\cdot w\\cdot \\sin(\\pi/4)$ nm down, where $w=20$ nm is the particle width. The position need to be adjusted to $Z=-50 + \\Delta z$ nm to keep particles on the bottom of the layer."
   ]
  },
  {
   "cell_type": "code",
   "execution_count": 8,
   "metadata": {},
   "outputs": [
    {
     "name": "stdout",
     "output_type": "stream",
     "text": [
      "Particle is shifted by  7.072  nm\n",
      "New particle position Z =  -42.928  nm\n"
     ]
    }
   ],
   "source": [
    "from numpy import sin, pi\n",
    "width = 20  # nm\n",
    "epsilon = 0.001  # needed to account for the rounding error\n",
    "dz = 0.5* width * sin(pi/4) + epsilon\n",
    "print(\"Particle is shifted by \", round(dz,3), \" nm\")\n",
    "print(\"New particle position Z = \", round(-50 + dz, 3), \" nm\")"
   ]
  },
  {
   "cell_type": "markdown",
   "metadata": {},
   "source": [
    "After adjustment of the particle vertical position, all boxes are at the bottom of the polymer layer, but don't cross it.\n",
    "\n",
    "![3D View](img/pex2_sol04.png)"
   ]
  },
  {
   "cell_type": "markdown",
   "metadata": {},
   "source": [
    "## Rotate particles around Y axis by 45 degree.\n",
    "\n",
    "This case is similar to rotation aroung the X axis. The vertical position of the particles is also should be adjusted. The only difference is that the length of the particle should be used instead of width to calculate the adjustment."
   ]
  },
  {
   "cell_type": "code",
   "execution_count": 9,
   "metadata": {},
   "outputs": [
    {
     "name": "stdout",
     "output_type": "stream",
     "text": [
      "Particle is shifted by  10.608  nm\n",
      "New particle position Z =  -39.392  nm\n"
     ]
    }
   ],
   "source": [
    "length = 30  # nm\n",
    "epsilon = 0.001  # needed to account for the rounding error\n",
    "dz = 0.5* length * sin(pi/4) + epsilon\n",
    "print(\"Particle is shifted by \", round(dz,3), \" nm\")\n",
    "print(\"New particle position Z = \", round(-50 + dz, 3), \" nm\")"
   ]
  },
  {
   "cell_type": "markdown",
   "metadata": {},
   "source": [
    "## Rotate particles around Z axis by 45 degree.\n",
    "\n",
    "Rotation around $Z$ axis does not shift particles in vertical direction. Thus, no position adjustment is needed.\n",
    "\n",
    "![3D View](img/pex2_sol05.png)"
   ]
  },
  {
   "cell_type": "markdown",
   "metadata": {},
   "source": [
    "## Euler rotation\n",
    "\n",
    "To turn the particle upside down and rotate it by 30 degree, Euler rotation with the following angles can be applied:\n",
    "\n",
    "- $\\alpha = -90^{\\circ} = 270^{\\circ}$\n",
    "- $\\beta = 180^{\\circ}$\n",
    "- $\\gamma = 120^{\\circ}$\n",
    "\n",
    "![Euler angles](img/pex2_sol06.png)\n",
    "\n",
    "Particle position must be adjusted by the height of the particle: $Z = -50 + 10 = -40$ nm.\n",
    "\n",
    "![Euler angles](img/pex2_sol07.png)\n",
    "\n",
    "The same result can be achieved by combining of the rotation around Y by 180 degree and rotation around Z by 30 degree. For the moment, it is possible only in Python."
   ]
  },
  {
   "cell_type": "code",
   "execution_count": null,
   "metadata": {},
   "outputs": [],
   "source": []
  }
 ],
 "metadata": {
  "kernelspec": {
   "display_name": "Python 3",
   "language": "python",
   "name": "python3"
  },
  "language_info": {
   "codemirror_mode": {
    "name": "ipython",
    "version": 3
   },
   "file_extension": ".py",
   "mimetype": "text/x-python",
   "name": "python",
   "nbconvert_exporter": "python",
   "pygments_lexer": "ipython3",
   "version": "3.7.1"
  }
 },
 "nbformat": 4,
 "nbformat_minor": 2
}
