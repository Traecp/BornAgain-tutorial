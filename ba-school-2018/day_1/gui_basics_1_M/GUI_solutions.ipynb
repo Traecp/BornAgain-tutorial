{
 "cells": [
  {
   "cell_type": "markdown",
   "metadata": {},
   "source": [
    "# Exercise 1: Set up GALAXI instrument\n",
    "\n",
    "## Beam parameters\n",
    "\n",
    "Pay attention, that `Wavelength` must be given in **nm**. Thus, $\\lambda = 0.134$ nm.\n",
    "\n",
    "![Beam parameters](img/ex1_sol01.png)"
   ]
  },
  {
   "cell_type": "markdown",
   "metadata": {},
   "source": [
    "## Detector parameters\n",
    "\n",
    "Considering pixel size 0.172 mm, calculate the detector size:"
   ]
  },
  {
   "cell_type": "code",
   "execution_count": 1,
   "metadata": {},
   "outputs": [
    {
     "name": "stdout",
     "output_type": "stream",
     "text": [
      "Width =  168.732  mm\n"
     ]
    }
   ],
   "source": [
    "width = 981 * 0.172\n",
    "print(\"Width = \", width, \" mm\")"
   ]
  },
  {
   "cell_type": "code",
   "execution_count": 2,
   "metadata": {},
   "outputs": [
    {
     "name": "stdout",
     "output_type": "stream",
     "text": [
      "Height =  179.396  mm\n"
     ]
    }
   ],
   "source": [
    "height = 1043 * 0.172\n",
    "print(\"Height = \", height, \" mm\")"
   ]
  },
  {
   "cell_type": "markdown",
   "metadata": {},
   "source": [
    "![Detector parameters](img/ex1_sol02.png)\n",
    "\n",
    "**Positions**"
   ]
  },
  {
   "cell_type": "code",
   "execution_count": 3,
   "metadata": {},
   "outputs": [
    {
     "name": "stdout",
     "output_type": "stream",
     "text": [
      "u0 =  103.2  mm\n"
     ]
    }
   ],
   "source": [
    "u0 = 600 * 0.172\n",
    "print (\"u0 = \", round(u0, 2), \" mm\")"
   ]
  },
  {
   "cell_type": "code",
   "execution_count": 4,
   "metadata": {},
   "outputs": [
    {
     "name": "stdout",
     "output_type": "stream",
     "text": [
      "v0 =  60.2  mm\n"
     ]
    }
   ],
   "source": [
    "v0 = 350 * 0.172\n",
    "print(\"v0 = \", round(v0, 2), \" mm\")"
   ]
  },
  {
   "cell_type": "markdown",
   "metadata": {},
   "source": [
    "![Positions](img/ex1_sol03.png)"
   ]
  },
  {
   "cell_type": "markdown",
   "metadata": {},
   "source": [
    "## Optional: beam divergency\n",
    "\n",
    "Beam divergency should be specified in degrees. Thus, first we need to convert units:"
   ]
  },
  {
   "cell_type": "code",
   "execution_count": 8,
   "metadata": {},
   "outputs": [
    {
     "name": "stdout",
     "output_type": "stream",
     "text": [
      "Angular divergency =  0.017  degrees\n"
     ]
    }
   ],
   "source": [
    "import numpy as np\n",
    "angle_fwhm = np.degrees(0.3e-3)\n",
    "print(\"Angular divergency = \", round(angle_fwhm, 3), \" degrees\")"
   ]
  },
  {
   "cell_type": "markdown",
   "metadata": {},
   "source": [
    "$\\sigma=\\frac{\\text{FWHM}}{2\\sqrt{2\\log 2}}$"
   ]
  },
  {
   "cell_type": "code",
   "execution_count": 11,
   "metadata": {},
   "outputs": [
    {
     "name": "stdout",
     "output_type": "stream",
     "text": [
      "sigma =  0.007\n"
     ]
    }
   ],
   "source": [
    "divider = 2*np.sqrt(2*np.log(2))  # approximately equal to 2.355\n",
    "sigma = angle_fwhm/divider\n",
    "print(\"sigma = \", round(sigma,3))"
   ]
  },
  {
   "cell_type": "markdown",
   "metadata": {},
   "source": [
    "Finally, beam divergency settings will look as follows\n",
    "\n",
    "![Beam divergency](img/ex1_sol04.png)\n",
    "\n",
    "The distribution widget should show the following plot\n",
    "\n",
    "![Distribution](img/ex1_sol05.png)"
   ]
  },
  {
   "cell_type": "markdown",
   "metadata": {},
   "source": [
    "## Optional: detector resolution\n",
    "\n",
    "GALAXI detector pixel has size 0.172 mm. Thus for FWHM equal to the pixel size,"
   ]
  },
  {
   "cell_type": "code",
   "execution_count": 12,
   "metadata": {},
   "outputs": [
    {
     "name": "stdout",
     "output_type": "stream",
     "text": [
      "SigmaX = SigmaY =  0.073\n"
     ]
    }
   ],
   "source": [
    "sigma = 0.172/2.355\n",
    "print(\"SigmaX = SigmaY = \", round(sigma, 3))"
   ]
  },
  {
   "cell_type": "markdown",
   "metadata": {},
   "source": [
    "Finally, the resolution function is defined as\n",
    "\n",
    "![Resolution](img/ex1_sol06.png)\n",
    "\n",
    "In this exercise we have defined the same resolution width in both directions. However, for some instruments the resolution in $X$ and $Y$ directions may be different."
   ]
  },
  {
   "cell_type": "markdown",
   "metadata": {},
   "source": [
    "# Exercise 2: Si Nano dots on Si substrate\n",
    "\n",
    "## Construct the sample\n",
    "\n",
    "1. Drag on the left side and drop in the sample design area  the `Multi layer` object.\n",
    "2. Drag 2 layers and drop them on the Multilayer.\n",
    "3. Drag and drop the `Basic particle layout` object. Connect it to the upper layer.\n",
    "4. Drag and drop `Box` particle. Connect it to the `Particle layout`.\n",
    "\n",
    "\n",
    "# Set the materials\n",
    "\n",
    "5. Click on the bottom layer to select it. On the right panel click on the `Material` to start the `Material editor` widget.\n",
    "\n",
    "![Set Material](img/ex2_sol02.png)\n",
    "\n",
    "6. Create new material **Si** with $\\delta=5.78\\cdot 10^{-6}$ and $\\beta=1.02\\cdot 10^{-7}$. For this exercise we use **Refractive index based** material. More about material kinds in BornAgain in later tutorials.\n",
    "\n",
    "7. After you've selected substrate material to be **Si**, click on the `Particle` ans set it's material to **Si** too.\n",
    "\n",
    "![Sample](img/ex2_sol01.png)\n",
    "\n",
    "8. Finally, set the particle length to 30 nm, width to 20 nm and height to 10 nm."
   ]
  },
  {
   "cell_type": "markdown",
   "metadata": {},
   "source": [
    "# Exercise 3\n",
    "\n",
    "1. Click `Run Simulation` button in `Simulation view`. After the simulation has finished, BornAgain should automaticaly switch to `Job view` screen. Click `Properties` on the top panel. Change `Axes Units` from *mm* to **q-space**. Change the `Min` value of the `y-axis` to **0**. Click `Save` button on the top panel to save the plot as `.png` file. The result should look like shown below."
   ]
  },
  {
   "cell_type": "code",
   "execution_count": 13,
   "metadata": {},
   "outputs": [
    {
     "data": {
      "text/html": [
       "<img src=\"img/sim1.png\"/>"
      ],
      "text/plain": [
       "<IPython.core.display.Image object>"
      ]
     },
     "execution_count": 13,
     "metadata": {},
     "output_type": "execute_result"
    }
   ],
   "source": [
    "from IPython.display import Image\n",
    "imgfile = \"img/sim1.png\"\n",
    "Image(url=imgfile)"
   ]
  },
  {
   "cell_type": "markdown",
   "metadata": {},
   "source": [
    "2. Click `Fourier` button on the top panel. The Fourier transform should look as shown below."
   ]
  },
  {
   "cell_type": "code",
   "execution_count": 17,
   "metadata": {},
   "outputs": [
    {
     "data": {
      "text/html": [
       "<img src=\"img/sim1_fft.png\"/>"
      ],
      "text/plain": [
       "<IPython.core.display.Image object>"
      ]
     },
     "execution_count": 17,
     "metadata": {},
     "output_type": "execute_result"
    }
   ],
   "source": [
    "fftfile = \"img/sim1_fft.png\"\n",
    "Image(url=fftfile)"
   ]
  },
  {
   "cell_type": "markdown",
   "metadata": {},
   "source": [
    "3. Switch to `Projections` view in the top right corner.\n",
    "\n",
    "![Projections](img/ex3_sol01.png)\n",
    "\n",
    "Choose the horizontal line on the right panel to create a horizontal projection. Position it at $Q_z=0.4$. Click to the floppy disk to save projection to a text file. The result should look as shown below."
   ]
  },
  {
   "cell_type": "code",
   "execution_count": 18,
   "metadata": {},
   "outputs": [],
   "source": [
    "%matplotlib inline"
   ]
  },
  {
   "cell_type": "code",
   "execution_count": 33,
   "metadata": {},
   "outputs": [
    {
     "data": {
      "image/png": "[encoded data removed]",
      "text/plain": [
       "<Figure size 432x288 with 1 Axes>"
      ]
     },
     "metadata": {
      "needs_background": "light"
     },
     "output_type": "display_data"
    }
   ],
   "source": [
    "import numpy as np\n",
    "import matplotlib.pyplot as plt\n",
    "\n",
    "projfile = \"data/proj2.txt\"\n",
    "data = np.loadtxt(projfile)\n",
    "plt.semilogy(data[:,0], data[:,1], color='k')\n",
    "plt.xlabel(r'$Q_y$ (nm$^{-1}$)')\n",
    "plt.ylabel('Intensity (a. u.)')\n",
    "plt.title(r\"Horizontal slice at $Q_z=0.4$ nm$^{-1}$\");"
   ]
  },
  {
   "cell_type": "markdown",
   "metadata": {},
   "source": [
    "4. Choose the vertical line on the right panel to create a vertical projection. Position it at $Q_y=0$. Click to the floppy disk to save projection to a text file. The result should look as shown below."
   ]
  },
  {
   "cell_type": "code",
   "execution_count": 34,
   "metadata": {},
   "outputs": [
    {
     "data": {
      "image/png": "[encoded data removed]",
      "text/plain": [
       "<Figure size 432x288 with 1 Axes>"
      ]
     },
     "metadata": {
      "needs_background": "light"
     },
     "output_type": "display_data"
    }
   ],
   "source": [
    "projfile = \"data/proj1.txt\"\n",
    "data = np.loadtxt(projfile)\n",
    "plt.semilogy(data[:,0], data[:,1], color='r')\n",
    "plt.xlabel(r'$Q_z$ (nm$^{-1}$)')\n",
    "plt.ylabel('Intensity (a. u.)')\n",
    "plt.title(r\"Vertical slice at $Q_y=0$ nm$^{-1}$\")\n",
    "plt.xlim(0.0, 2.3);"
   ]
  },
  {
   "cell_type": "markdown",
   "metadata": {},
   "source": [
    "5. Switch to the `Real Time Activity` in the right bottom corner. Vary the sample parameters.\n",
    "\n",
    "![Real time activity](img/realtime.png)"
   ]
  },
  {
   "cell_type": "code",
   "execution_count": null,
   "metadata": {},
   "outputs": [],
   "source": []
  }
 ],
 "metadata": {
  "kernelspec": {
   "display_name": "Python 3",
   "language": "python",
   "name": "python3"
  },
  "language_info": {
   "codemirror_mode": {
    "name": "ipython",
    "version": 3
   },
   "file_extension": ".py",
   "mimetype": "text/x-python",
   "name": "python",
   "nbconvert_exporter": "python",
   "pygments_lexer": "ipython3",
   "version": "3.7.1"
  }
 },
 "nbformat": 4,
 "nbformat_minor": 2
}
