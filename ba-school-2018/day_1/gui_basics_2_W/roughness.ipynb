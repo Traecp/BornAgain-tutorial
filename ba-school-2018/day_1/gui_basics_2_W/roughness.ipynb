{
 "cells": [
  {
   "cell_type": "markdown",
   "metadata": {},
   "source": [
    "# Rough layer interfaces"
   ]
  },
  {
   "cell_type": "markdown",
   "metadata": {},
   "source": [
    "There are two main effects of rough interfaces in the DWBA calculation:\n",
    "* Correction of Fresnel coefficients: this will be handled in the presentation on reflectivity\n",
    "* Off-specular scattering from the rough interface"
   ]
  },
  {
   "cell_type": "markdown",
   "metadata": {},
   "source": [
    "Rough interfaces can be seen as perturbations to a perfectly smooth layer interface. These roughness profiles can also be correlated between different interfaces:"
   ]
  },
  {
   "cell_type": "markdown",
   "metadata": {},
   "source": [
    "<img src=\"roughifs.png\">"
   ]
  },
  {
   "cell_type": "markdown",
   "metadata": {},
   "source": [
    "In BornAgain, we use a model of the roughness where the height-height correlation function is:"
   ]
  },
  {
   "cell_type": "markdown",
   "metadata": {},
   "source": [
    "$$\\left\\langle \\phi(r)\\phi(r+R) \\right\\rangle = \\sigma^2 \\exp(-\\left| \\frac{R}{\\xi} \\right|^{2h})$$"
   ]
  },
  {
   "cell_type": "markdown",
   "metadata": {},
   "source": [
    "where $\\sigma^2$ is the variance of the height perturbation, $\\xi$ is the lateral correlation length and the **Hurst parameter** $h$ determines the jaggedness of the profile (a value of $h=1$ gives a smooth profile). The influence of this parameter can be seen in the following picture."
   ]
  },
  {
   "cell_type": "markdown",
   "metadata": {},
   "source": [
    "<img src=\"rough_hurst.png\">"
   ]
  },
  {
   "cell_type": "markdown",
   "metadata": {},
   "source": [
    "In BornAgain, an exponentially decaying correlation between roughness profiles of different interfaces is also supported. The correlation is modeled as follows:"
   ]
  },
  {
   "cell_type": "markdown",
   "metadata": {},
   "source": [
    "$$\\large{\\left\\langle \\sigma_i(r)\\sigma_j(r)\\right\\rangle = e^{-\\frac{\\left| z_i - z_j \\right|}{L}}}$$"
   ]
  },
  {
   "cell_type": "code",
   "execution_count": null,
   "metadata": {},
   "outputs": [],
   "source": []
  }
 ],
 "metadata": {
  "kernelspec": {
   "display_name": "Python 3",
   "language": "python",
   "name": "python3"
  },
  "language_info": {
   "codemirror_mode": {
    "name": "ipython",
    "version": 3
   },
   "file_extension": ".py",
   "mimetype": "text/x-python",
   "name": "python",
   "nbconvert_exporter": "python",
   "pygments_lexer": "ipython3",
   "version": "3.7.1"
  }
 },
 "nbformat": 4,
 "nbformat_minor": 2
}
