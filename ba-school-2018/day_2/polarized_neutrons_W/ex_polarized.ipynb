{
 "cells": [
  {
   "cell_type": "markdown",
   "metadata": {},
   "source": [
    "## Cylindrical holes in layered system"
   ]
  },
  {
   "cell_type": "markdown",
   "metadata": {},
   "source": [
    "Simulate the next sample, representing unordered cylindrical holes in two magnetic layers:"
   ]
  },
  {
   "cell_type": "markdown",
   "metadata": {},
   "source": [
    "Parameters:\n",
    "* cylindrical holes (air): radius: 5 nm, height: 20 nm\n",
    "* particle density: 0.002\n",
    "* thickness layer 1 and 1: 10 nm\n",
    "* layer 1 and 2: $\\delta = 6\\cdot 10^{-6}$, $\\beta = 2\\cdot 10^{-8}$\n",
    "* layer 1 magnetization: (0, 1e5, 0)\n",
    "* layer 2 magnetizaiton: (0, -1e5, 0)\n",
    "* substrate material: $\\delta = 3\\cdot 10^{-6}$, $\\beta = 2\\cdot 10^{-8}$\n",
    "* beam: wavelength = $1$ Å, $\\alpha = 0.2$ degree, intensity $1\\cdot 10^8$\n",
    "* detector (200x200): $\\alpha$ between 0 and 2 degree, $\\phi$ between -1 and 1 degree\n",
    "* polarization analysis: spin flip from +z to -z"
   ]
  },
  {
   "cell_type": "markdown",
   "metadata": {},
   "source": [
    "<img src=\"cyl_holes.png\">"
   ]
  },
  {
   "cell_type": "markdown",
   "metadata": {},
   "source": [
    "<img src=\"cyl_holes_sim.png\">"
   ]
  }
 ],
 "metadata": {
  "kernelspec": {
   "display_name": "Python 3",
   "language": "python",
   "name": "python3"
  },
  "language_info": {
   "codemirror_mode": {
    "name": "ipython",
    "version": 3
   },
   "file_extension": ".py",
   "mimetype": "text/x-python",
   "name": "python",
   "nbconvert_exporter": "python",
   "pygments_lexer": "ipython3",
   "version": "3.7.1"
  }
 },
 "nbformat": 4,
 "nbformat_minor": 2
}
