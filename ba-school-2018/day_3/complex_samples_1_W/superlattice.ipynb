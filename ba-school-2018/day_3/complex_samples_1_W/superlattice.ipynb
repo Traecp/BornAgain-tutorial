{
 "cells": [
  {
   "cell_type": "markdown",
   "metadata": {},
   "source": [
    "# Superlattice of cylindrical holes in Si substrate"
   ]
  },
  {
   "cell_type": "code",
   "execution_count": null,
   "metadata": {},
   "outputs": [],
   "source": [
    "%matplotlib notebook"
   ]
  },
  {
   "cell_type": "code",
   "execution_count": null,
   "metadata": {},
   "outputs": [],
   "source": [
    "from bornagain import deg, angstrom, nm\n",
    "import bornagain as ba"
   ]
  },
  {
   "cell_type": "code",
   "execution_count": null,
   "metadata": {},
   "outputs": [],
   "source": [
    "detector_distance = 2000.0  # in mm\n",
    "pixel_size = 0.17  # in mm\n",
    "npx, npy = 200, 200  # number of pixels\n",
    "u0, v0 = 17., -5.0  # direct beam position in mm"
   ]
  },
  {
   "cell_type": "code",
   "execution_count": null,
   "metadata": {},
   "outputs": [],
   "source": [
    "def get_sample():\n",
    "    # defining materials\n",
    "    m_air = ba.HomogeneousMaterial(\"Air\", 0.0, 0.0)\n",
    "    m_substrate = ba.HomogeneousMaterial(\"Silicon\", 5.7e-6, 1.e-7)\n",
    " \n",
    "    # collection of particles\n",
    "    cylinder_ff = ba.FormFactorCylinder(15*nm, 100*nm)\n",
    "    cylinder = ba.Particle(m_air, cylinder_ff)\n",
    "    particle_layout = ba.ParticleLayout()\n",
    "    particle_layout.addParticle(cylinder, 1.0, ba.kvector_t(0.0, 0.0, -100*nm))\n",
    "    substructure = ba.InterferenceFunctionFinite2DLattice.createSquare(100*nm, 0.0, 10, 10)\n",
    "    interference = ba.InterferenceFunction2DSuperLattice.createSquare(2000*nm, 0.0, 30, 10)\n",
    "    interference.setSubstructureIFF(substructure)\n",
    "    particle_layout.setInterferenceFunction(interference)\n",
    "    particle_layout.setTotalParticleSurfaceDensity(100.0/4e6)\n",
    "\n",
    "    air_layer = ba.Layer(m_air)\n",
    "    substrate_layer = ba.Layer(m_substrate)\n",
    "    substrate_layer.addLayout(particle_layout)\n",
    "\n",
    "    multi_layer = ba.MultiLayer()\n",
    "    multi_layer.addLayer(air_layer)\n",
    "    multi_layer.addLayer(substrate_layer)\n",
    "    return multi_layer"
   ]
  },
  {
   "cell_type": "code",
   "execution_count": null,
   "metadata": {},
   "outputs": [],
   "source": [
    "def get_rectangular_detector():\n",
    "    width = npx*pixel_size\n",
    "    height = npy*pixel_size\n",
    "    detector = ba.RectangularDetector(npx, width, npy, height)\n",
    "    detector.setPerpendicularToDirectBeam(detector_distance, u0, v0)\n",
    "    return detector"
   ]
  },
  {
   "cell_type": "code",
   "execution_count": null,
   "metadata": {},
   "outputs": [],
   "source": [
    "def get_simulation():\n",
    "    simulation = ba.GISASSimulation()\n",
    "    simulation.setDetector(get_rectangular_detector())\n",
    "    simulation.setBeamParameters(0.13*nm, 0.18*deg, 0.0*deg)\n",
    "    simulation.getOptions().setMonteCarloIntegration(True, 100)\n",
    "    return simulation"
   ]
  },
  {
   "cell_type": "code",
   "execution_count": null,
   "metadata": {},
   "outputs": [],
   "source": [
    "def run_simulation():\n",
    "    simulation = get_simulation()\n",
    "    simulation.setSample(get_sample())\n",
    "    simulation.runSimulation()\n",
    "    return simulation.result()"
   ]
  },
  {
   "cell_type": "code",
   "execution_count": null,
   "metadata": {},
   "outputs": [],
   "source": [
    "result = run_simulation()\n",
    "ba.plot_simulation_result(result)"
   ]
  },
  {
   "cell_type": "code",
   "execution_count": null,
   "metadata": {},
   "outputs": [],
   "source": []
  }
 ],
 "metadata": {
  "kernelspec": {
   "display_name": "Python 3",
   "language": "python",
   "name": "python3"
  },
  "language_info": {
   "codemirror_mode": {
    "name": "ipython",
    "version": 3
   },
   "file_extension": ".py",
   "mimetype": "text/x-python",
   "name": "python",
   "nbconvert_exporter": "python",
   "pygments_lexer": "ipython3",
   "version": "3.7.1"
  }
 },
 "nbformat": 4,
 "nbformat_minor": 2
}
