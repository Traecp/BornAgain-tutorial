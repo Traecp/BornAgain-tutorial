{
 "cells": [
  {
   "cell_type": "markdown",
   "metadata": {},
   "source": [
    "# GUI overview"
   ]
  },
  {
   "cell_type": "markdown",
   "metadata": {},
   "source": [
    "![sidebar](img/sidebar.png)"
   ]
  },
  {
   "cell_type": "markdown",
   "metadata": {},
   "source": [
    "## Instrument view\n",
    "\n",
    "The Instrument View is used to create new scattering instruments and adjust their settings. To add a new instrument click `Add` button in the top left corner.\n",
    "\n",
    "![Add instrument](img/add_instrument.png)\n",
    "\n",
    "This tutorial covers only the **GISAS** instrument. Other instrument types will be presented in later tutorials."
   ]
  },
  {
   "cell_type": "markdown",
   "metadata": {},
   "source": [
    "The instrument view consists of the instrument selector located on the left and the instrument settings window located on the right.\n",
    "\n",
    "![GISAS Instrument](img/gisas_instrument_view1.png)"
   ]
  },
  {
   "cell_type": "markdown",
   "metadata": {},
   "source": [
    "### Beam Parameters\n",
    "\n",
    "* `Intensity`, photons (or neutrons)\n",
    "* X-ray/neutron `Wavelength`, nm\n",
    "* `Inclination angle`, degree\n",
    "* `Azimuthal angle`, degree\n",
    "\n",
    "Beam divergency can be set up via `Distribution` parameter. Click the **magnifying glass** to start the `Extended distribution viewer`.\n",
    "\n",
    "![Distribution widget](img/distr_widget.png)"
   ]
  },
  {
   "cell_type": "markdown",
   "metadata": {},
   "source": [
    "### Detector parameters\n",
    "\n",
    "This tutorial will cover only the **rectangular detector**, since it is the most popular detector type for GISAS instruments. More information about BornAgain detector types one can find on [BornAgain web page](https://www.bornagainproject.org/documentation/working-with-python/detector-types/).\n",
    "\n",
    "**Rectangular detector is defined by following parameters:**\n",
    "* `Nbins` - number of detector pixels (horizontal for `X axis` and vertical for `Y axis`)\n",
    "* `Width` - width of the detector, mm\n",
    "* `Height` - height of the detector, mm\n",
    "* `Alignment` - the way how the detector aligned with respect to the direct beam, sample, etc.\n",
    "* `Resolution function` - detector resolution. For the moment only 2D Gaussian is supported. Simulated result will be convolved with the given function to account for detector resolution.\n",
    "\n",
    "![Rectangular detector](img/rectangular_detector_genpos.png)\n",
    "\n",
    "**Positions:**\n",
    "* `u0 (dbeam)` - direct beam X coordinate, mm\n",
    "* `v0 (dbeam)` - direct beam Y coordinate, mm\n",
    "* `Distance` - distance from sample to detector, mm"
   ]
  },
  {
   "cell_type": "markdown",
   "metadata": {},
   "source": [
    "## Sample View\n",
    "\n",
    "The Sample View allows you to design the sample via a drag-and-drop interface. It consists of five main parts\n",
    "\n",
    "   * The item toolbox (1) contains a variety of items for building a sample\n",
    "   * The sample canvas (2) is used to assemble the sample\n",
    "   * The sample tree view (3) represents the hierarchy of the objects composing the sample\n",
    "   * The property editor (4) can be used to edit the parameters of the currently selected item\n",
    "   * The script view (5) shows the automatically generated Python script\n",
    "   \n",
    "![Sample View](img/sample_view.png)"
   ]
  },
  {
   "cell_type": "markdown",
   "metadata": {},
   "source": [
    "#### Material editor\n",
    "\n",
    "`Material editor` accounts for properties of the materials, such as refractive indices (alternatively SLD) or magnetization. To start the wigdet, click the `Material Editor` button on the top panel.\n",
    "\n",
    "![Material editor](img/material_editor.png)"
   ]
  },
  {
   "cell_type": "markdown",
   "metadata": {},
   "source": [
    "## Simulation view\n",
    "\n",
    "![Simulation View](img/sim_view.png)\n",
    "\n",
    "The Simulation View contains three important elements\n",
    "\n",
    "- The `Data selection` box for selecting the instrument and the sample to simulate.\n",
    "- The `Simulation Parameters` box for changing the main simulation parameters \n",
    "- The `Run Simulation` and `Export to Python Script` buttons\n"
   ]
  },
  {
   "cell_type": "markdown",
   "metadata": {},
   "source": [
    "## Job view\n",
    "\n",
    "![Job View](img/jobview.png)"
   ]
  },
  {
   "cell_type": "code",
   "execution_count": null,
   "metadata": {},
   "outputs": [],
   "source": []
  }
 ],
 "metadata": {
  "kernelspec": {
   "display_name": "Python 3",
   "language": "python",
   "name": "python3"
  },
  "language_info": {
   "codemirror_mode": {
    "name": "ipython",
    "version": 3
   },
   "file_extension": ".py",
   "mimetype": "text/x-python",
   "name": "python",
   "nbconvert_exporter": "python",
   "pygments_lexer": "ipython3",
   "version": "3.8.0"
  }
 },
 "nbformat": 4,
 "nbformat_minor": 2
}
