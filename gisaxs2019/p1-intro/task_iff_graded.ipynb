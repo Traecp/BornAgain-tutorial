{
 "cells": [
  {
   "cell_type": "markdown",
   "metadata": {},
   "source": [
    "## Half buried spheres in hexagonal lattice"
   ]
  },
  {
   "cell_type": "markdown",
   "metadata": {},
   "source": [
    "1. Simulate the next sample.\n",
    "2. Simulate again with the graded layer approach (10 slices in each layer).\n",
    "3. Use `Real Time Activity` to find out which parameter settings cause the two simulations to diverge more."
   ]
  },
  {
   "cell_type": "markdown",
   "metadata": {},
   "source": [
    "Parameters:\n",
    "* sphere radius: 4 nm\n",
    "* lattice constant: 10 nm\n",
    "* substrate material: $\\delta = 6\\cdot 10^{-6}$, $\\beta = 2\\cdot 10^{-8}$\n",
    "* particle material: $\\delta = 8\\cdot 10^{-6}$, $\\beta = 2\\cdot 10^{-8}$\n",
    "* beam: wavelength = $1$ Å, $\\alpha = 0.2$ degree, intensity $1\\cdot 10^8$\n",
    "* detector: $\\alpha$ between 0 and 2 degree, $\\phi$ between -1 and 1 degree\n",
    "* Cauchy decay function with decay length 100nm"
   ]
  },
  {
   "cell_type": "markdown",
   "metadata": {},
   "source": [
    "<img src=\"img/buried_spheres.png\">"
   ]
  },
  {
   "cell_type": "markdown",
   "metadata": {},
   "source": [
    "### Simulation without graded layer approach:"
   ]
  },
  {
   "cell_type": "markdown",
   "metadata": {},
   "source": [
    "<img src=\"img/buried_spheres_sim1.png\">"
   ]
  },
  {
   "cell_type": "markdown",
   "metadata": {},
   "source": [
    "### Simulation with graded layer approach (10 slices in each layer):"
   ]
  },
  {
   "cell_type": "markdown",
   "metadata": {},
   "source": [
    "<img src=\"img/buried_spheres_sim2.png\">"
   ]
  },
  {
   "cell_type": "code",
   "execution_count": null,
   "metadata": {},
   "outputs": [],
   "source": []
  }
 ],
 "metadata": {
  "kernelspec": {
   "display_name": "Python 3",
   "language": "python",
   "name": "python3"
  },
  "language_info": {
   "codemirror_mode": {
    "name": "ipython",
    "version": 3
   },
   "file_extension": ".py",
   "mimetype": "text/x-python",
   "name": "python",
   "nbconvert_exporter": "python",
   "pygments_lexer": "ipython3",
   "version": "3.8.0"
  }
 },
 "nbformat": 4,
 "nbformat_minor": 2
}
