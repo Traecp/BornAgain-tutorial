{
 "cells": [
  {
   "cell_type": "code",
   "execution_count": 1,
   "metadata": {
    "collapsed": false
   },
   "outputs": [],
   "source": [
    "from __future__ import print_function\n",
    "\n",
    "class Animal:\n",
    "    def __init__(self, name):\n",
    "        self.name = name\n",
    "        \n",
    "    def makeNoise(self):\n",
    "        print(\"...\")\n",
    "        \n",
    "    def saySomething(self):\n",
    "        print(\"my name is {0} and I am a {1}\".format(self, type(self)))\n",
    "        self.makeNoise()\n",
    "        \n",
    "    def __str__(self):\n",
    "        return self.name\n",
    "             \n",
    "class Dog(Animal):\n",
    "    def __init__(self, name):\n",
    "        Animal.__init__(self, name)\n",
    "        \n",
    "    def makeNoise(self):\n",
    "        print(\"woof!\")\n",
    "        \n",
    "        \n",
    "class Cat(Animal):\n",
    "    def __init__(self, name):\n",
    "        Animal.__init__(self, name)\n",
    "                 \n",
    "    def makeNoise(self):\n",
    "        print(\"meow!\")\n",
    "        "
   ]
  },
  {
   "cell_type": "code",
   "execution_count": 2,
   "metadata": {
    "collapsed": true
   },
   "outputs": [],
   "source": [
    "george = Animal('george')\n",
    "sparky = Dog('sparky')\n",
    "mitsy = Cat('mitsy')"
   ]
  },
  {
   "cell_type": "code",
   "execution_count": 3,
   "metadata": {
    "collapsed": false
   },
   "outputs": [
    {
     "name": "stdout",
     "output_type": "stream",
     "text": [
      "my name is george and I am a <class '__main__.Animal'>\n",
      "...\n"
     ]
    }
   ],
   "source": [
    "george.saySomething()"
   ]
  },
  {
   "cell_type": "code",
   "execution_count": 4,
   "metadata": {
    "collapsed": false
   },
   "outputs": [
    {
     "name": "stdout",
     "output_type": "stream",
     "text": [
      "my name is sparky and I am a <class '__main__.Dog'>\n",
      "woof!\n"
     ]
    }
   ],
   "source": [
    "sparky.saySomething()"
   ]
  },
  {
   "cell_type": "code",
   "execution_count": 5,
   "metadata": {
    "collapsed": false
   },
   "outputs": [
    {
     "name": "stdout",
     "output_type": "stream",
     "text": [
      "my name is mitsy and I am a <class '__main__.Cat'>\n",
      "meow!\n"
     ]
    }
   ],
   "source": [
    "mitsy.saySomething()"
   ]
  },
  {
   "cell_type": "code",
   "execution_count": 6,
   "metadata": {
    "collapsed": true
   },
   "outputs": [],
   "source": [
    "def printAnimal(x):\n",
    "    if isinstance(x, Animal):\n",
    "        print(\"'{0}' is an animal\".format(x))\n",
    "    else:\n",
    "        print(\"'{0}' is not an animal\".format(x))"
   ]
  },
  {
   "cell_type": "code",
   "execution_count": 7,
   "metadata": {
    "collapsed": false
   },
   "outputs": [
    {
     "name": "stdout",
     "output_type": "stream",
     "text": [
      "'george' is an animal\n",
      "'sparky' is an animal\n",
      "'mitsy' is an animal\n",
      "'3' is not an animal\n"
     ]
    }
   ],
   "source": [
    "printAnimal(george)\n",
    "printAnimal(sparky)\n",
    "printAnimal(mitsy)\n",
    "printAnimal(3)"
   ]
  }
 ],
 "metadata": {
  "kernelspec": {
   "display_name": "Python 3",
   "language": "python",
   "name": "python3"
  },
  "language_info": {
   "codemirror_mode": {
    "name": "ipython",
    "version": 3
   },
   "file_extension": ".py",
   "mimetype": "text/x-python",
   "name": "python",
   "nbconvert_exporter": "python",
   "pygments_lexer": "ipython3",
   "version": "3.5.2"
  }
 },
 "nbformat": 4,
 "nbformat_minor": 1
}
