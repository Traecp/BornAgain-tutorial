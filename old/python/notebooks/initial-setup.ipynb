{
 "cells": [
  {
   "cell_type": "markdown",
   "metadata": {},
   "source": [
    "# Anaconda and BornAgain setup\n",
    "\n",
    "- If you do not already have a working Python 2.7 environment, download and install Anaconda at https://www.continuum.io/downloads. Be sure to get Python 2.7 version. You will need `numpy` and `matplotlib`. We recommend that you install `ipython` and `jupyter notebook`.\n",
    "- Download and install BornAgain http://www.bornagainproject.org/download.\n",
    "- Download and install PyCharm https://www.jetbrains.com/pycharm/download. \n",
    "- If having trouble getting PyCharm to find the `bornagain` module, edit the PYTHONPATH via Run -> Edit configurations.\n",
    "\n",
    "\n",
    "    "
   ]
  },
  {
   "cell_type": "markdown",
   "metadata": {
    "collapsed": true
   },
   "source": [
    "Check that python is working from command line:\n",
    "```\n",
    "python -c \"print('hello, world!')\n",
    "```\n",
    "or in a jupyter notebook:"
   ]
  },
  {
   "cell_type": "code",
   "execution_count": 6,
   "metadata": {
    "collapsed": false
   },
   "outputs": [
    {
     "name": "stdout",
     "output_type": "stream",
     "text": [
      "hello, world!\n"
     ]
    }
   ],
   "source": [
    "print('hello, world!')"
   ]
  },
  {
   "cell_type": "markdown",
   "metadata": {
    "collapsed": false
   },
   "source": [
    "Check that the bornagain python module is correctly installed:"
   ]
  },
  {
   "cell_type": "code",
   "execution_count": 5,
   "metadata": {
    "collapsed": false
   },
   "outputs": [
    {
     "name": "stdout",
     "output_type": "stream",
     "text": [
      "successfully loaded bornagain module\n",
      "BornAgain version number is 1.6\n"
     ]
    }
   ],
   "source": [
    "from __future__ import print_function #needed for python2/python3 compatibility\n",
    "\n",
    "try:\n",
    "    import bornagain as ba\n",
    "    print(\"successfully loaded bornagain module\")\n",
    "    major, minor = ba.major_version_number, ba.minor_version_number\n",
    "    print(\"BornAgain version number is {0}.{1}\".format(major, minor))\n",
    "except:\n",
    "    print(\"could not import bornagain module!\")"
   ]
  },
  {
   "cell_type": "markdown",
   "metadata": {},
   "source": [
    "### *You should do this for all environments in which you plan to use BornAgain, e.g. jupyter notebook, PyCharm, command line.*"
   ]
  },
  {
   "cell_type": "code",
   "execution_count": null,
   "metadata": {
    "collapsed": true
   },
   "outputs": [],
   "source": []
  }
 ],
 "metadata": {
  "kernelspec": {
   "display_name": "Python 3",
   "language": "python",
   "name": "python3"
  },
  "language_info": {
   "codemirror_mode": {
    "name": "ipython",
    "version": 3
   },
   "file_extension": ".py",
   "mimetype": "text/x-python",
   "name": "python",
   "nbconvert_exporter": "python",
   "pygments_lexer": "ipython3",
   "version": "3.5.2"
  }
 },
 "nbformat": 4,
 "nbformat_minor": 1
}
