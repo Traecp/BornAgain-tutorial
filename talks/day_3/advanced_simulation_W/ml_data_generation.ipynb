{
 "cells": [
  {
   "cell_type": "code",
   "execution_count": null,
   "metadata": {},
   "outputs": [],
   "source": [
    "from os.path import join\n",
    "from matplotlib import pyplot as plt\n",
    "import numpy as np\n",
    "import random\n",
    "import os\n",
    "from time import time\n",
    "from bornagain import deg, angstrom, nm\n",
    "import bornagain as ba"
   ]
  },
  {
   "cell_type": "code",
   "execution_count": null,
   "metadata": {},
   "outputs": [],
   "source": [
    "PHIMIN, PHIMAX = -0.5, 0.5\n",
    "ALPHAMIN, ALPHAMAX = 0.0, 1.0\n",
    "NPHI, NALPHA = 224, 224\n",
    "\n",
    "N_ANGLE_BINS = 120\n",
    "MAX_NONZEROS = 5"
   ]
  },
  {
   "cell_type": "code",
   "execution_count": null,
   "metadata": {},
   "outputs": [],
   "source": [
    "def get_sample(angle_distribution):\n",
    "    # defining materials\n",
    "    m_ambience = ba.HomogeneousMaterial(\"Air\", 0.0, 0.0)\n",
    "    m_particle = ba.HomogeneousMaterial(\"Particle\", 6e-4, 2e-8)\n",
    "    m_substrate = ba.HomogeneousMaterial(\"Substrate\", 6e-6, 2e-8)\n",
    "\n",
    "    # layers\n",
    "    air_layer = ba.Layer(m_ambience)\n",
    "    substrate_layer = ba.Layer(m_substrate)\n",
    "\n",
    "    # particle and basic layout\n",
    "    formfactor = ba.FormFactorFullSphere(0.62*nm)\n",
    "    particle = ba.Particle(m_particle, formfactor)\n",
    "    particle_layout = ba.ParticleLayout()\n",
    "    particle_layout.addParticle(particle)\n",
    "\n",
    "    # interference function and different layouts with correct weights\n",
    "    for i, weight in enumerate(angle_distribution):\n",
    "        angle = i*60.0 / len(angle_distribution)\n",
    "        if weight > 0.0:\n",
    "            interference = ba.InterferenceFunctionFinite2DLattice(18*nm, 18*nm, 120*deg, angle*deg, 20, 20)\n",
    "            interference.setPositionVariance(10*nm)\n",
    "            particle_layout.setInterferenceFunction(interference)\n",
    "            particle_layout.setWeight(weight)\n",
    "            air_layer.addLayout(particle_layout)\n",
    "\n",
    "    multi_layer = ba.MultiLayer()\n",
    "    multi_layer.addLayer(air_layer)\n",
    "    multi_layer.addLayer(substrate_layer)\n",
    "\n",
    "    return multi_layer"
   ]
  },
  {
   "cell_type": "code",
   "execution_count": null,
   "metadata": {},
   "outputs": [],
   "source": [
    "def get_simulation():\n",
    "    simulation = ba.GISASSimulation()\n",
    "    \n",
    "    detector = ba.RectangularDetector(NPHI, 13.15, NALPHA, 8.38)\n",
    "    detector.setPerpendicularToDirectBeam(300.0, 6.57, -0.99)\n",
    "    simulation.setDetector(detector)\n",
    "    \n",
    "    simulation.setDetectorResolutionFunction(ba.ResolutionFunction2DGaussian(0.04, 0.04))\n",
    "    simulation.setBeamParameters(0.1*nm, 0.268*deg, 0.0*deg)\n",
    "    simulation.setBeamIntensity(4.0e+09)\n",
    "    return simulation"
   ]
  },
  {
   "cell_type": "code",
   "execution_count": null,
   "metadata": {},
   "outputs": [],
   "source": [
    "def simulate(angle_distribution):\n",
    "    sample = get_sample(angle_distribution)\n",
    "    simulation = get_simulation()\n",
    "    simulation.setSample(sample)\n",
    "    simulation.runSimulation()\n",
    "    return simulation.result()"
   ]
  },
  {
   "cell_type": "code",
   "execution_count": null,
   "metadata": {},
   "outputs": [],
   "source": [
    "def sim_distr(angle_distribution, save_path, index):\n",
    "    result = simulate(angle_distribution)\n",
    "    filename_array = \"data_distr{0}\".format(index)\n",
    "    filename_distr = \"distr{0}\".format(index)\n",
    "    np.save(join(save_path, filename_array), result.array())\n",
    "    np.save(join(save_path, filename_distr), angle_distribution)"
   ]
  },
  {
   "cell_type": "code",
   "execution_count": null,
   "metadata": {},
   "outputs": [],
   "source": [
    "def generate_angle_distribution(num_bins, max_non_zeros):\n",
    "    distr = np.zeros(num_bins)\n",
    "    non_zeros = random.randrange(max_non_zeros) + 1\n",
    "    succes = False\n",
    "    while not succes:\n",
    "        nonzero_indices = random.sample(range(num_bins), non_zeros)\n",
    "        probs = np.random.random_sample((non_zeros,))\n",
    "        total = np.sum(probs)\n",
    "        if total > 0.0:\n",
    "            probs = probs / total\n",
    "            succes = True\n",
    "        for i, idx in enumerate(nonzero_indices):\n",
    "            distr[idx] = probs[i]\n",
    "    return non_zeros, distr"
   ]
  },
  {
   "cell_type": "code",
   "execution_count": null,
   "metadata": {},
   "outputs": [],
   "source": [
    "def generate_dataset(n_train, save_path, max_non_zeros):\n",
    "    for i in range(n_train):\n",
    "        non_zeros, distr = generate_angle_distribution(N_ANGLE_BINS, max_non_zeros)\n",
    "        if i%10 == 9:\n",
    "            status = \"Example {0:d}: {1:d} non-zero probabilities\".format(i+1, non_zeros)\n",
    "            print(status)\n",
    "        sim_distr(distr, save_path, i)"
   ]
  },
  {
   "cell_type": "code",
   "execution_count": null,
   "metadata": {},
   "outputs": [],
   "source": [
    "def create_dir(path: str):\n",
    "    if not os.path.exists(path):\n",
    "        os.mkdir(path)\n",
    "    if not os.path.isdir(path):\n",
    "        raise FileExistsError(path)"
   ]
  },
  {
   "cell_type": "code",
   "execution_count": null,
   "metadata": {},
   "outputs": [],
   "source": [
    "def seed_random_generators():\n",
    "    random.seed(300416)\n",
    "    np.random.seed(240201)"
   ]
  },
  {
   "cell_type": "code",
   "execution_count": null,
   "metadata": {},
   "outputs": [],
   "source": [
    "DATA_PATH = \"./ml_data\"\n",
    "N_TRAIN = 20\n",
    "N_VAL = 10\n",
    "\n",
    "seed_random_generators()\n",
    "\n",
    "\n",
    "TRAIN_PATH = DATA_PATH + \"/train\"\n",
    "VAL_PATH = DATA_PATH + \"/val\"\n",
    "\n",
    "create_dir(DATA_PATH)\n",
    "create_dir(TRAIN_PATH)\n",
    "create_dir(VAL_PATH)\n",
    "\n",
    "if os.listdir(TRAIN_PATH):\n",
    "    print(\"WARNING: '{}' is not empty! Files may be overwritten\"\n",
    "          .format(TRAIN_PATH))\n",
    "\n",
    "if os.listdir(VAL_PATH):\n",
    "    print(\"WARNING: '{}' is not empty! Files may be overwritten\"\n",
    "          .format(VAL_PATH))\n",
    "\n",
    "print(\"Generating training data: {0:d} examples\".format(N_TRAIN))\n",
    "START_TIME = time()\n",
    "\n",
    "generate_dataset(N_TRAIN, TRAIN_PATH, MAX_NONZEROS)\n",
    "print(\"Execution time for {0} training examples: {1:.2f} seconds\"\n",
    "      .format(N_TRAIN, time() - START_TIME))\n",
    "print(\"Generating validation data: {0:d} examples\".format(N_VAL))\n",
    "START_TIME = time()\n",
    "\n",
    "generate_dataset(N_VAL, VAL_PATH, MAX_NONZEROS)\n",
    "print(\"Execution time for {0} validation examples: {1:.2f} seconds\"\n",
    "      .format(N_VAL, time() - START_TIME))"
   ]
  },
  {
   "cell_type": "code",
   "execution_count": null,
   "metadata": {},
   "outputs": [],
   "source": [
    "!ls ml_data/train"
   ]
  },
  {
   "cell_type": "code",
   "execution_count": null,
   "metadata": {},
   "outputs": [],
   "source": [
    "!ls ml_data/val"
   ]
  },
  {
   "cell_type": "code",
   "execution_count": null,
   "metadata": {},
   "outputs": [],
   "source": [
    "%matplotlib notebook\n",
    "i = 5\n",
    "fname = \"ml_data/val/data_distr{}.npy\".format(i)\n",
    "valdata = np.log(np.load(fname)+1e-10)\n",
    "plt.figure(figsize=(8,8))\n",
    "plt.imshow(valdata)"
   ]
  },
  {
   "cell_type": "code",
   "execution_count": null,
   "metadata": {},
   "outputs": [],
   "source": []
  }
 ],
 "metadata": {
  "kernelspec": {
   "display_name": "Python 3",
   "language": "python",
   "name": "python3"
  },
  "language_info": {
   "codemirror_mode": {
    "name": "ipython",
    "version": 3
   },
   "file_extension": ".py",
   "mimetype": "text/x-python",
   "name": "python",
   "nbconvert_exporter": "python",
   "pygments_lexer": "ipython3",
   "version": "3.7.1"
  }
 },
 "nbformat": 4,
 "nbformat_minor": 2
}
