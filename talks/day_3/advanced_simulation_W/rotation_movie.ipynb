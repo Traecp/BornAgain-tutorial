{
 "cells": [
  {
   "cell_type": "code",
   "execution_count": null,
   "metadata": {},
   "outputs": [],
   "source": [
    "import os, sys\n",
    "import numpy as np\n",
    "from matplotlib import pyplot as plt\n",
    "from tqdm import tqdm\n",
    "import bornagain as ba\n",
    "from bornagain import deg, angstrom, nm"
   ]
  },
  {
   "cell_type": "code",
   "execution_count": null,
   "metadata": {},
   "outputs": [],
   "source": [
    "N_FRAMES = 100"
   ]
  },
  {
   "cell_type": "code",
   "execution_count": null,
   "metadata": {},
   "outputs": [],
   "source": [
    "def run_simulation(xi=0.0):\n",
    "    # defining materials\n",
    "    m_air = ba.HomogeneousMaterial(\"Air\", 0.0, 0.0 )\n",
    "    m_substrate = ba.HomogeneousMaterial(\"Substrate\", 6e-6, 2e-8 )\n",
    "    m_particle = ba.HomogeneousMaterial(\"Particle\", 6e-4, 2e-8 )\n",
    "    \n",
    "    # particle\n",
    "    cylinder_ff = ba.FormFactorCylinder(10*nm, 5*nm)\n",
    "    cylinder = ba.Particle(m_particle, cylinder_ff)\n",
    "    layout = ba.ParticleLayout()\n",
    "    layout.addParticle(cylinder)\n",
    "\n",
    "    # interference function\n",
    "    lattice = ba.SquareLattice(25*nm, xi*deg)\n",
    "    interference = ba.InterferenceFunction2DLattice(lattice)\n",
    "    decay = ba.FTDecayFunction2DCauchy(1000*nm, 1000*nm)\n",
    "    interference.setDecayFunction(decay)\n",
    "    layout.setInterferenceFunction(interference)\n",
    "\n",
    "    # layers\n",
    "    air_layer = ba.Layer(m_air)\n",
    "    air_layer.addLayout(layout)\n",
    "    substrate_layer = ba.Layer(m_substrate)\n",
    "\n",
    "    # multilayer\n",
    "    multi_layer = ba.MultiLayer()\n",
    "    multi_layer.addLayer(air_layer)\n",
    "    multi_layer.addLayer(substrate_layer)\n",
    "\n",
    "    # build and run experiment\n",
    "    simulation = ba.GISASSimulation()\n",
    "    simulation.setDetectorParameters(100, -2.0*deg, 2.0*deg, 100, 0.0*deg, 4.0*deg)\n",
    "    simulation.setBeamParameters(1.38*angstrom, 0.5*deg, 0.0*deg)\n",
    "    simulation.setBeamIntensity(1e6)\n",
    "\n",
    "    # run simulation\n",
    "    simulation.setSample(multi_layer)\n",
    "    simulation.runSimulation()\n",
    "    return simulation.result()"
   ]
  },
  {
   "cell_type": "code",
   "execution_count": null,
   "metadata": {},
   "outputs": [],
   "source": [
    "def calculate_xi(i):\n",
    "    return 0. + (90.0/N_FRAMES)*i"
   ]
  },
  {
   "cell_type": "code",
   "execution_count": null,
   "metadata": {},
   "outputs": [],
   "source": [
    "fig = plt.figure(figsize=(10,10))\n",
    "for i in tqdm(range(N_FRAMES)):\n",
    "    xi = calculate_xi(i)\n",
    "    result = run_simulation(xi)\n",
    "    array = np.log(result.array() + 1.0)\n",
    "    fig.clear()\n",
    "    im = plt.imshow(array, vmax=6,\n",
    "             extent=[-4.0, 4.0, 0, 8.0])\n",
    "    plt.xlabel(r'$\\phi_f$', fontsize=20)\n",
    "    plt.ylabel(r'$\\alpha_f$', fontsize=20)\n",
    "    plt.colorbar(im)\n",
    "    fname = '_tmp%03d.png'%i\n",
    "    fig.savefig(fname)\n",
    "fig.clear()\n",
    "os.system(\"mencoder 'mf://_tmp*.png' -mf type=png:fps=10 -ovc lavc -lavcopts vcodec=wmv2 -oac copy -o animation.mp4\")\n",
    "print(\"Removing temporary files\")\n",
    "os.system(\"rm _tmp*\");"
   ]
  },
  {
   "cell_type": "code",
   "execution_count": null,
   "metadata": {},
   "outputs": [],
   "source": [
    "!mplayer animation.mp4 -loop 0 > /dev/null 2>&1"
   ]
  },
  {
   "cell_type": "code",
   "execution_count": null,
   "metadata": {},
   "outputs": [],
   "source": []
  }
 ],
 "metadata": {
  "kernelspec": {
   "display_name": "Python 3",
   "language": "python",
   "name": "python3"
  },
  "language_info": {
   "codemirror_mode": {
    "name": "ipython",
    "version": 3
   },
   "file_extension": ".py",
   "mimetype": "text/x-python",
   "name": "python",
   "nbconvert_exporter": "python",
   "pygments_lexer": "ipython3",
   "version": "3.7.1"
  }
 },
 "nbformat": 4,
 "nbformat_minor": 2
}
